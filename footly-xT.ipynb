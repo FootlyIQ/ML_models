{
 "cells": [
  {
   "cell_type": "code",
   "execution_count": null,
   "id": "1176d8fe-88c3-4631-84e8-de81e01e4536",
   "metadata": {},
   "outputs": [],
   "source": [
    "!pip install mplsoccer"
   ]
  },
  {
   "cell_type": "code",
   "execution_count": null,
   "id": "86b63ae3-3456-4d55-b002-c2c96886dd68",
   "metadata": {},
   "outputs": [],
   "source": [
    "import duckdb\n",
    "\n",
    "import mplsoccer\n",
    "from mplsoccer import Pitch, VerticalPitch\n",
    "\n",
    "import pandas as pd\n",
    "\n",
    "from matplotlib import pyplot as plt\n",
    "import seaborn as sns\n",
    "import plotly.express as px\n",
    "import numpy as np\n",
    "from scipy.stats import binned_statistic_2d"
   ]
  },
  {
   "cell_type": "code",
   "execution_count": null,
   "id": "8aff0529-0dff-4a80-ad56-38aaaa7f1505",
   "metadata": {},
   "outputs": [],
   "source": [
    "df_stories = duckdb.sql(f\"\"\"\n",
    "    SELECT * FROM '/content/drive/MyDrive/footly_data/stories.parquet'\n",
    "    WHERE type = 'pass'\n",
    "\"\"\").df()\n",
    "\n",
    "df_stories.shape"
   ]
  },
  {
   "cell_type": "code",
   "execution_count": null,
   "id": "fbc72773-c5af-4ac6-a89a-f0d998e108cd",
   "metadata": {},
   "outputs": [],
   "source": [
    "#Znebim se podaj, ki so koncale v avtu\n",
    "df_stories_filtered = df_stories[df_stories['ball_out'] != True]\n",
    "df_stories_filtered.shape"
   ]
  },
  {
   "cell_type": "code",
   "execution_count": null,
   "id": "9d18f06a-db8b-421b-9628-eb049e6bc598",
   "metadata": {},
   "outputs": [],
   "source": [
    "# Create a copy and scale the coordinates to real pitch dimensions (105x68 meters)\n",
    "df_move = df_stories_filtered.copy()\n",
    "df_move[\"start_x\"] *= 105 / 100\n",
    "df_move[\"start_y\"] *= 68 / 100\n",
    "df_move[\"end_x\"] *= 105 / 100\n",
    "df_move[\"end_y\"] *= 68 / 100\n",
    "\n",
    "df_move.head(3)"
   ]
  },
  {
   "cell_type": "code",
   "execution_count": null,
   "id": "7c1a84c5-51f5-4010-a2e3-96458215503e",
   "metadata": {},
   "outputs": [],
   "source": [
    "# Recalculate pass_length using scaled coordinates\n",
    "df_move[\"pass_length\"] = np.sqrt(\n",
    "    (df_move[\"end_x\"] - df_move[\"start_x\"])**2 +\n",
    "    (df_move[\"end_y\"] - df_move[\"start_y\"])**2\n",
    ")\n",
    "\n",
    "df_move.head(3)"
   ]
  },
  {
   "cell_type": "code",
   "execution_count": null,
   "id": "a1738ef1-aaec-4b72-8432-087324d7a716",
   "metadata": {},
   "outputs": [],
   "source": [
    "import pyarrow\n",
    "import fastparquet"
   ]
  },
  {
   "cell_type": "code",
   "execution_count": null,
   "id": "c05845b6-b477-4a8d-8343-0a3d99798fdc",
   "metadata": {},
   "outputs": [],
   "source": [
    "df_move[\"cross\"].value_counts()"
   ]
  },
  {
   "cell_type": "code",
   "execution_count": null,
   "id": "0bc4bfeb-3409-4cf1-86ee-95be961b87db",
   "metadata": {},
   "outputs": [],
   "source": [
    "# List of columns to keep\n",
    "columns_to_keep = [\n",
    "    'id',\n",
    "    'start_x',\n",
    "    'start_y',\n",
    "    'end_x',\n",
    "    'end_y',\n",
    "    'pass_length',\n",
    "    'successful',\n",
    "    'pass_high',\n",
    "    'player_id',\n",
    "    'team_id',\n",
    "    'pass_recipient_id',\n",
    "    'player_position',\n",
    "    'season',\n",
    "    'long_pass',\n",
    "    'possession_id',\n",
    "    'minute',\n",
    "    'cross'\n",
    "]\n",
    "\n",
    "# Select only the desired columns\n",
    "df_done = df_move[columns_to_keep]\n",
    "\n",
    "# Display the first few rows to verify\n",
    "df_done.head()"
   ]
  },
  {
   "cell_type": "code",
   "execution_count": null,
   "id": "ac679d7f-62ea-4c99-8250-75d1e160d3bb",
   "metadata": {},
   "outputs": [],
   "source": [
    "# Save the reduced DataFrame as Parquet\n",
    "df_done.to_parquet('/content/drive/MyDrive/footly_data/passes_crosses_Done.parquet', index=False)\n",
    "\n",
    "print(\"DataFrame saved successfully!\")"
   ]
  },
  {
   "cell_type": "code",
   "execution_count": null,
   "id": "9075e8cb-ded5-4c16-853a-f3417236cce5",
   "metadata": {},
   "outputs": [],
   "source": [
    "# List of columns to keep\n",
    "columns_to_keep_2 = [\n",
    "    'id',\n",
    "    'start_x',\n",
    "    'start_y',\n",
    "    'end_x',\n",
    "    'end_y',\n",
    "    'team_id'\n",
    "]\n",
    "\n",
    "# Select only the desired columns\n",
    "df_done_2 = df_move[columns_to_keep_2]\n",
    "\n",
    "# Display the first few rows to verify\n",
    "df_done_2.head(2)"
   ]
  },
  {
   "cell_type": "code",
   "execution_count": null,
   "id": "fadcda20-650b-42ba-95db-57d9dba62796",
   "metadata": {},
   "outputs": [],
   "source": [
    "# Save the reduced DataFrame as Parquet\n",
    "df_done_2.to_parquet('/content/drive/MyDrive/footly_data/moving_small.parquet', index=False)\n",
    "\n",
    "print(\"DataFrame saved successfully!\")"
   ]
  },
  {
   "cell_type": "code",
   "execution_count": null,
   "id": "165b4fb9-add1-4cea-bdc6-e8c6393ae727",
   "metadata": {},
   "outputs": [],
   "source": [
    "# Randomly sample 50% of the DataFrame\n",
    "df_smaller = df_move.sample(frac=0.5, random_state=123)\n",
    "\n",
    "# Optionally, reset the index if needed\n",
    "df_smaller.reset_index(drop=True, inplace=True)\n",
    "\n",
    "print(f\"Original size: {len(df_move)}, Reduced size: {len(df_smaller)}\")"
   ]
  },
  {
   "cell_type": "code",
   "execution_count": null,
   "id": "8a9a90b2-0ef6-4183-9bce-ccec06da9886",
   "metadata": {},
   "outputs": [],
   "source": [
    "#create 2D histogram of these\n",
    "pitch = Pitch(line_color='black',pitch_type='custom', pitch_length=105, pitch_width=68, line_zorder = 2)\n",
    "move = pitch.bin_statistic(df_smaller.start_x, df_smaller.start_y, statistic='count', bins=(16, 12), normalize=False)\n",
    "\n",
    "fig, ax = pitch.grid(grid_height=0.9, title_height=0.06, axis=False,\n",
    "                     endnote_height=0.04, title_space=0, endnote_space=0)\n",
    "pcm  = pitch.heatmap(move, cmap='Blues', edgecolor='grey', ax=ax['pitch'])\n",
    "#legend to our plot\n",
    "ax_cbar = fig.add_axes((1, 0.093, 0.03, 0.786))\n",
    "cbar = plt.colorbar(pcm, cax=ax_cbar)\n",
    "fig.suptitle('Moving actions 2D histogram', fontsize = 30)\n",
    "plt.show()\n",
    "#get the array\n",
    "move_count = move[\"statistic\"]"
   ]
  },
  {
   "cell_type": "markdown",
   "id": "f7d387ac-3d16-4f31-a325-4ecdef086621",
   "metadata": {},
   "source": [
    "## Shots"
   ]
  },
  {
   "cell_type": "code",
   "execution_count": null,
   "id": "b5e39cd0-60a1-4ec9-9720-c1599cdc651f",
   "metadata": {},
   "outputs": [],
   "source": [
    "df_shots = duckdb.sql(f\"\"\"\n",
    "    SELECT * FROM '/content/drive/MyDrive/footly_data/stories.parquet'\n",
    "    WHERE type = 'shot'\n",
    "\"\"\").df()\n",
    "\n",
    "df_shots.shape"
   ]
  },
  {
   "cell_type": "code",
   "execution_count": null,
   "id": "0fc0c6ef-eafd-4176-9278-d987c04edd0f",
   "metadata": {},
   "outputs": [],
   "source": [
    "df_copy = df_shots.copy()\n",
    "df_copy[\"start_x\"] *= 105 / 100\n",
    "df_copy[\"start_y\"] *= 68 / 100\n",
    "df_copy[\"end_x\"] *= 105 / 100\n",
    "df_copy[\"end_y\"] *= 68 / 100"
   ]
  },
  {
   "cell_type": "code",
   "execution_count": null,
   "id": "b4fc8a8c-cfff-4b7d-8c6a-c1924e73835e",
   "metadata": {},
   "outputs": [],
   "source": [
    "columns_to_keep_3 = [\n",
    "    'id',\n",
    "    'start_x',\n",
    "    'start_y',\n",
    "    'end_x',\n",
    "    'end_y',\n",
    "    'team_id'\n",
    "]\n",
    "\n",
    "# Select only the desired columns\n",
    "df_done_3 = df_copy[columns_to_keep_3]\n",
    "\n",
    "# Display the first few rows to verify\n",
    "df_done_3.head(2)"
   ]
  },
  {
   "cell_type": "code",
   "execution_count": null,
   "id": "fd422e10-499f-4f08-bbde-33bc6386a572",
   "metadata": {},
   "outputs": [],
   "source": [
    "# Save the reduced DataFrame as Parquet\n",
    "df_done_3.to_parquet('/content/drive/MyDrive/footly_data/shots_small.parquet', index=False)\n",
    "\n",
    "print(\"DataFrame saved successfully!\")"
   ]
  }
 ],
 "metadata": {
  "kernelspec": {
   "display_name": "MOS_projekt",
   "language": "python",
   "name": "mos_projekt"
  },
  "language_info": {
   "codemirror_mode": {
    "name": "ipython",
    "version": 3
   },
   "file_extension": ".py",
   "mimetype": "text/x-python",
   "name": "python",
   "nbconvert_exporter": "python",
   "pygments_lexer": "ipython3",
   "version": "3.12.8"
  }
 },
 "nbformat": 4,
 "nbformat_minor": 5
}
